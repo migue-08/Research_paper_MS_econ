{
 "cells": [
  {
   "cell_type": "markdown",
   "id": "ea538de7-aa83-4003-b804-dcae173d7da5",
   "metadata": {},
   "source": [
    "# Regression analysis"
   ]
  },
  {
   "cell_type": "markdown",
   "id": "df7a1ccd-df36-4206-a9c4-a37fa6789a94",
   "metadata": {},
   "source": [
    "## Load data"
   ]
  },
  {
   "cell_type": "code",
   "execution_count": 1,
   "id": "952e6154-9b53-4a9c-95ab-d5af150b5170",
   "metadata": {},
   "outputs": [],
   "source": [
    "import numpy as np\n",
    "import pandas as pd"
   ]
  },
  {
   "cell_type": "code",
   "execution_count": 2,
   "id": "9c4082cb-92cf-40e6-a0cf-1e8955578b3b",
   "metadata": {},
   "outputs": [],
   "source": [
    "df = pd.read_csv('final_principal.csv', index_col=0)"
   ]
  },
  {
   "cell_type": "markdown",
   "id": "ec0218a2-1c74-40f5-b030-4cf30fb257a5",
   "metadata": {},
   "source": [
    "## Define the model"
   ]
  },
  {
   "cell_type": "code",
   "execution_count": 3,
   "id": "e987568c-8820-4505-a44d-47a8feeb286c",
   "metadata": {},
   "outputs": [],
   "source": [
    "# simple model\n",
    "\n",
    "X = df.loc[:, ['Ano_2022', 'Entorno_tecnologico',\n",
    "               '2022_x_entorno_tecnologico']]\n",
    "\n",
    "# Model with covariates\n",
    "\n",
    "X2 = df.loc[:, ['Ano_2022', 'Entorno_tecnologico',\n",
    "                '2022_x_entorno_tecnologico', 'Edad',\n",
    "                'Estu_genero_f', 'Cole_bilingue',\n",
    "                'Fami_educacionmadre', 'Fami_educacionpadre',\n",
    "                'Cole_area_ubicacion_urbano', 'Cole_naturaleza_no oficial']]\n",
    "\n",
    "# Dependent variable\n",
    "\n",
    "y = df.loc[:, 'Punt_global']"
   ]
  },
  {
   "cell_type": "markdown",
   "id": "9329393e-3b56-48e7-945b-8ff78801afdf",
   "metadata": {},
   "source": [
    "## Regression coefficients with Scikit-Learn"
   ]
  },
  {
   "cell_type": "markdown",
   "id": "f81ab234-e738-4871-910f-d92301b6646e",
   "metadata": {},
   "source": [
    "### Simple model"
   ]
  },
  {
   "cell_type": "code",
   "execution_count": 4,
   "id": "1f8a2a65-ad6c-47b3-a801-5cc18108e954",
   "metadata": {},
   "outputs": [],
   "source": [
    "from sklearn.linear_model import LinearRegression"
   ]
  },
  {
   "cell_type": "code",
   "execution_count": 5,
   "id": "bcf7714b-fe45-451b-a3af-d5639415892b",
   "metadata": {},
   "outputs": [
    {
     "data": {
      "text/plain": [
       "Ano_2022                       1.567935\n",
       "Entorno_tecnologico           34.706726\n",
       "2022_x_entorno_tecnologico     1.040196\n",
       "dtype: float64"
      ]
     },
     "execution_count": 5,
     "metadata": {},
     "output_type": "execute_result"
    }
   ],
   "source": [
    "model = LinearRegression(fit_intercept=True).fit(X, y)\n",
    "\n",
    "# parameters of the model\n",
    "params = pd.Series(model.coef_, index=X.columns)\n",
    "params"
   ]
  },
  {
   "cell_type": "code",
   "execution_count": 6,
   "id": "5322f348-150c-47ae-9442-3e5c19991c15",
   "metadata": {},
   "outputs": [
    {
     "name": "stdout",
     "output_type": "stream",
     "text": [
      "Intercept: 235.32303603882193\n"
     ]
    }
   ],
   "source": [
    "# intercept\n",
    "print('Intercept:', model.intercept_)"
   ]
  },
  {
   "cell_type": "markdown",
   "id": "815a16b2-2358-49c6-8b21-3adc7996bebd",
   "metadata": {},
   "source": [
    "### Model with covariates"
   ]
  },
  {
   "cell_type": "code",
   "execution_count": 7,
   "id": "9b3ff553-61dd-4417-9392-3a893cc8ca55",
   "metadata": {},
   "outputs": [
    {
     "data": {
      "text/plain": [
       "Ano_2022                      -0.692532\n",
       "Entorno_tecnologico           15.104835\n",
       "2022_x_entorno_tecnologico     2.381686\n",
       "Edad                          -8.439519\n",
       "Estu_genero_f                 -6.507558\n",
       "Cole_bilingue                 19.808505\n",
       "Fami_educacionmadre            1.531849\n",
       "Fami_educacionpadre            1.246472\n",
       "Cole_area_ubicacion_urbano     7.110228\n",
       "Cole_naturaleza_no oficial    16.575893\n",
       "dtype: float64"
      ]
     },
     "execution_count": 7,
     "metadata": {},
     "output_type": "execute_result"
    }
   ],
   "source": [
    "model = LinearRegression(fit_intercept=True).fit(X2, y)\n",
    "\n",
    "# parameters of the model\n",
    "params = pd.Series(model.coef_, index=X2.columns)\n",
    "params"
   ]
  },
  {
   "cell_type": "code",
   "execution_count": 8,
   "id": "1f1402e7-a896-4c60-9647-f766e5c68164",
   "metadata": {},
   "outputs": [
    {
     "name": "stdout",
     "output_type": "stream",
     "text": [
      "Intercept: 348.24714670760727\n"
     ]
    }
   ],
   "source": [
    "# intercept\n",
    "print('Intercept:', model.intercept_)"
   ]
  },
  {
   "cell_type": "code",
   "execution_count": null,
   "id": "0718bfd3-7c15-41e7-a50a-f34b725ca17d",
   "metadata": {},
   "outputs": [],
   "source": []
  }
 ],
 "metadata": {
  "kernelspec": {
   "display_name": "Python 3 (ipykernel)",
   "language": "python",
   "name": "python3"
  },
  "language_info": {
   "codemirror_mode": {
    "name": "ipython",
    "version": 3
   },
   "file_extension": ".py",
   "mimetype": "text/x-python",
   "name": "python",
   "nbconvert_exporter": "python",
   "pygments_lexer": "ipython3",
   "version": "3.13.2"
  }
 },
 "nbformat": 4,
 "nbformat_minor": 5
}
