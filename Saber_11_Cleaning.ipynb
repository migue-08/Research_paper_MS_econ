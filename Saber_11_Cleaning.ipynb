{
 "cells": [
  {
   "cell_type": "code",
   "execution_count": 1,
   "id": "4f9beaab-f86b-48aa-acca-47788a8afd5e",
   "metadata": {},
   "outputs": [],
   "source": [
    "# Importing the required libraries\n",
    "\n",
    "import numpy as np\n",
    "import pandas as pd\n",
    "import matplotlib.pyplot as plt\n",
    "import seaborn as sns\n",
    "plt.rc(\"figure\", figsize=(10, 6))\n",
    "import os"
   ]
  },
  {
   "cell_type": "markdown",
   "id": "409d42ca-5f2d-4745-9f25-84f5c58fbacd",
   "metadata": {},
   "source": [
    "## Load data"
   ]
  },
  {
   "cell_type": "code",
   "execution_count": 2,
   "id": "9039d930-78f3-4f2f-8e93-75a7dd75159b",
   "metadata": {},
   "outputs": [],
   "source": [
    "# First, we load the data with 'pandas.read_csv'\n",
    "\n",
    "df1 = pd.read_csv('Examen_Saber_11_20192.txt', sep=';',\n",
    "                  header=0, on_bad_lines='skip',\n",
    "                  low_memory=False)\n",
    "df2 = pd.read_csv('Examen_Saber_11_20222.txt', sep=';',\n",
    "                  header=0, on_bad_lines='skip',\n",
    "                  low_memory=False)"
   ]
  },
  {
   "cell_type": "markdown",
   "id": "69bcb052-f9bf-4946-9061-103c41233c58",
   "metadata": {},
   "source": [
    "## Concat the data"
   ]
  },
  {
   "cell_type": "code",
   "execution_count": 3,
   "id": "90f9252f-1f4b-4c97-b3e2-61c2d7268eb1",
   "metadata": {},
   "outputs": [],
   "source": [
    "# Now we concatenate both dataframes along index\n",
    "\n",
    "data = pd.concat([df1, df2], ignore_index=True)"
   ]
  },
  {
   "cell_type": "markdown",
   "id": "fce7f45e-1276-4d27-807d-c45618ec1ce9",
   "metadata": {},
   "source": [
    "## Relevant variables"
   ]
  },
  {
   "cell_type": "code",
   "execution_count": 4,
   "id": "7562e780-114a-4cee-b18d-e03e59435952",
   "metadata": {},
   "outputs": [],
   "source": [
    "# The model/analysis will only consider the following variables\n",
    "\n",
    "var = [0, 4, 5, 6, 9, 10, 11, 17, 31, 32, 37, 39, 40,\n",
    "       42, 46, 47, 57, 58, 59, 63, 64, 67, 68, 79,\n",
    "       80, 81, 82, 83, 84]\n",
    "\n",
    "data = data.iloc[:, var]"
   ]
  },
  {
   "cell_type": "markdown",
   "id": "7b198c7b-d554-442c-a74f-e1fbb1dd0632",
   "metadata": {},
   "source": [
    "## Year split"
   ]
  },
  {
   "cell_type": "code",
   "execution_count": 5,
   "id": "abfac448-a59a-4834-92ec-d3fa3da82757",
   "metadata": {},
   "outputs": [],
   "source": [
    "# Split the 'periodo' years 2019 and 2022\n",
    "\n",
    "data['ano'] = data['periodo'].astype(str).str[:4].astype(int)"
   ]
  },
  {
   "cell_type": "markdown",
   "id": "d22cd2ec-fe28-4be2-84bb-93370b2f7352",
   "metadata": {},
   "source": [
    "## Removing missing values"
   ]
  },
  {
   "cell_type": "code",
   "execution_count": 6,
   "id": "304ef9e4-105a-471e-a036-1c8c00e2e61c",
   "metadata": {},
   "outputs": [],
   "source": [
    "# Then, we drop any row containing a missing value (i.e. 'np.nan')\n",
    "\n",
    "data = data.dropna(ignore_index=True)"
   ]
  },
  {
   "cell_type": "code",
   "execution_count": 7,
   "id": "2dcf8379-d287-472a-961a-36f0fef3dc7f",
   "metadata": {},
   "outputs": [
    {
     "data": {
      "text/plain": [
       "(819589, 30)"
      ]
     },
     "execution_count": 7,
     "metadata": {},
     "output_type": "execute_result"
    }
   ],
   "source": [
    "data.shape"
   ]
  },
  {
   "cell_type": "code",
   "execution_count": 8,
   "id": "303e2174-24a5-463c-b211-c78a881e881a",
   "metadata": {},
   "outputs": [
    {
     "data": {
      "text/plain": [
       "ano\n",
       "2019    420676\n",
       "2022    398913\n",
       "Name: ano, dtype: int64"
      ]
     },
     "execution_count": 8,
     "metadata": {},
     "output_type": "execute_result"
    }
   ],
   "source": [
    "# Data by year\n",
    "\n",
    "data.groupby('ano')['ano'].count()"
   ]
  },
  {
   "cell_type": "code",
   "execution_count": 9,
   "id": "4d51cfa1-ccad-478c-a3d4-757a79727cb3",
   "metadata": {},
   "outputs": [
    {
     "data": {
      "text/plain": [
       "cole_naturaleza\n",
       "NO OFICIAL    170815\n",
       "OFICIAL       648774\n",
       "Name: cole_naturaleza, dtype: int64"
      ]
     },
     "execution_count": 9,
     "metadata": {},
     "output_type": "execute_result"
    }
   ],
   "source": [
    "# Data by sector\n",
    "\n",
    "data.groupby('cole_naturaleza')['cole_naturaleza'].count()"
   ]
  },
  {
   "cell_type": "markdown",
   "id": "efe1b77d-8b5d-4efd-98a6-707d3f722b19",
   "metadata": {},
   "source": [
    "## School Calendar"
   ]
  },
  {
   "cell_type": "code",
   "execution_count": 10,
   "id": "5ea8c594-cc62-4c45-8edc-d51ef156b8bb",
   "metadata": {},
   "outputs": [],
   "source": [
    "# The analysis will be with students in A Calendar school:\n",
    "\n",
    "data = (\n",
    "    data\n",
    "        .query('cole_calendario == \"A\"')\n",
    "        .reset_index(drop=True)\n",
    ")"
   ]
  },
  {
   "cell_type": "code",
   "execution_count": 11,
   "id": "39d3f2ab-47b4-4869-b108-9fd3a70fe28a",
   "metadata": {},
   "outputs": [
    {
     "data": {
      "text/plain": [
       "(815460, 30)"
      ]
     },
     "execution_count": 11,
     "metadata": {},
     "output_type": "execute_result"
    }
   ],
   "source": [
    "data.shape"
   ]
  },
  {
   "cell_type": "code",
   "execution_count": 12,
   "id": "ee251026-d005-407d-b9d8-294de38e096b",
   "metadata": {},
   "outputs": [
    {
     "data": {
      "text/plain": [
       "ano\n",
       "2019    417890\n",
       "2022    397570\n",
       "Name: ano, dtype: int64"
      ]
     },
     "execution_count": 12,
     "metadata": {},
     "output_type": "execute_result"
    }
   ],
   "source": [
    "# Data by year\n",
    "\n",
    "data.groupby('ano')['ano'].count()"
   ]
  },
  {
   "cell_type": "code",
   "execution_count": 13,
   "id": "3d4414ff-bb07-421a-b96c-5010188328b0",
   "metadata": {},
   "outputs": [
    {
     "data": {
      "text/plain": [
       "cole_naturaleza\n",
       "NO OFICIAL    166686\n",
       "OFICIAL       648774\n",
       "Name: cole_naturaleza, dtype: int64"
      ]
     },
     "execution_count": 13,
     "metadata": {},
     "output_type": "execute_result"
    }
   ],
   "source": [
    "# Data by sector\n",
    "\n",
    "data.groupby('cole_naturaleza')['cole_naturaleza'].count()"
   ]
  },
  {
   "cell_type": "markdown",
   "id": "f79defed-b3b0-4378-9791-b4ee3441224b",
   "metadata": {},
   "source": [
    "## Student filter"
   ]
  },
  {
   "cell_type": "code",
   "execution_count": 14,
   "id": "76ef5126-7b2f-4e7a-8f47-8830dbbf27ea",
   "metadata": {},
   "outputs": [],
   "source": [
    "# We want students who are in the final year (11, 12)\n",
    "\n",
    "data = (\n",
    "    data\n",
    "        .query('estu_grado == 11.0 | estu_grado == 12.0')\n",
    "        .reset_index(drop=True)\n",
    ")"
   ]
  },
  {
   "cell_type": "code",
   "execution_count": 15,
   "id": "19aa822c-209c-40e3-acda-22ba0a46d3c1",
   "metadata": {},
   "outputs": [
    {
     "data": {
      "text/plain": [
       "(736165, 30)"
      ]
     },
     "execution_count": 15,
     "metadata": {},
     "output_type": "execute_result"
    }
   ],
   "source": [
    "data.shape"
   ]
  },
  {
   "cell_type": "code",
   "execution_count": 16,
   "id": "0b1d0a2c-8268-48bd-b34c-22991c695366",
   "metadata": {},
   "outputs": [
    {
     "data": {
      "text/plain": [
       "ano\n",
       "2019    373297\n",
       "2022    362868\n",
       "Name: ano, dtype: int64"
      ]
     },
     "execution_count": 16,
     "metadata": {},
     "output_type": "execute_result"
    }
   ],
   "source": [
    "# Data by year\n",
    "\n",
    "data.groupby('ano')['ano'].count()"
   ]
  },
  {
   "cell_type": "code",
   "execution_count": 17,
   "id": "ef8b2b35-85b0-4393-8f52-7bcd21af0a08",
   "metadata": {},
   "outputs": [
    {
     "data": {
      "text/plain": [
       "cole_naturaleza\n",
       "NO OFICIAL    142649\n",
       "OFICIAL       593516\n",
       "Name: cole_naturaleza, dtype: int64"
      ]
     },
     "execution_count": 17,
     "metadata": {},
     "output_type": "execute_result"
    }
   ],
   "source": [
    "# Data by sector\n",
    "\n",
    "data.groupby('cole_naturaleza')['cole_naturaleza'].count()"
   ]
  },
  {
   "cell_type": "markdown",
   "id": "ebd65bf0-2bd0-4a31-8229-8d4cd60b418c",
   "metadata": {},
   "source": [
    "## Estimating and filtering student's age "
   ]
  },
  {
   "cell_type": "code",
   "execution_count": 18,
   "id": "105d7e4f-5799-4f83-a046-b894503c45a5",
   "metadata": {},
   "outputs": [],
   "source": [
    "# We want to compute the age of students when taking the exam.\n",
    "# First we parse the 'Date of birth' to a 'Datetime' object:\n",
    "\n",
    "data['estu_fechanacimiento'] = pd.to_datetime(data['estu_fechanacimiento'],\n",
    "                                              errors='coerce',\n",
    "                                              dayfirst=True)"
   ]
  },
  {
   "cell_type": "code",
   "execution_count": 19,
   "id": "6590534a-8414-4e92-b51b-43f7264d26d3",
   "metadata": {},
   "outputs": [],
   "source": [
    "# According to webpage of ICFES the exam in 2019 was taken '25 de agosto'\n",
    "# and in 2022 in '4 de septiembre'\n",
    "\n",
    "fecha = {2019: pd.Timestamp(2019, 8, 25),\n",
    "         2022: pd.Timestamp(2022, 9, 4)}\n",
    "\n",
    "data['estu_fechapresentacion'] = data['ano'].map(fecha)"
   ]
  },
  {
   "cell_type": "code",
   "execution_count": 20,
   "id": "0ba92f77-4e4e-46ed-a79d-05cfc327a429",
   "metadata": {},
   "outputs": [],
   "source": [
    "# Now we estimate the age (in days) of students by substracting 'Date of birth' from 'Date of presentation of exam', and dividing by 365 days:\n",
    "# And then, we round the age to float number:\n",
    "\n",
    "data['edad'] = np.floor((data['estu_fechapresentacion'] - data['estu_fechanacimiento']) / pd.Timedelta(days=365.25))"
   ]
  },
  {
   "cell_type": "code",
   "execution_count": 21,
   "id": "fc2c41a5-0a7e-4828-b3b0-4e09cbd2362b",
   "metadata": {},
   "outputs": [],
   "source": [
    "# Finally we filter the age from 14-25 years:\n",
    "\n",
    "age = range(14, 26)\n",
    "\n",
    "data = (data[data['edad'].isin(age)]\n",
    "        .reset_index(drop=True))"
   ]
  },
  {
   "cell_type": "code",
   "execution_count": 22,
   "id": "f94f3086-df58-41df-8dfc-996c05cb6e92",
   "metadata": {},
   "outputs": [
    {
     "data": {
      "text/plain": [
       "(733790, 32)"
      ]
     },
     "execution_count": 22,
     "metadata": {},
     "output_type": "execute_result"
    }
   ],
   "source": [
    "data.shape"
   ]
  },
  {
   "cell_type": "code",
   "execution_count": 23,
   "id": "229e54a9-0513-46f8-8a99-a7b02b2849dd",
   "metadata": {},
   "outputs": [
    {
     "data": {
      "text/plain": [
       "ano\n",
       "2019    371721\n",
       "2022    362069\n",
       "Name: ano, dtype: int64"
      ]
     },
     "execution_count": 23,
     "metadata": {},
     "output_type": "execute_result"
    }
   ],
   "source": [
    "# Data by year\n",
    "\n",
    "data.groupby('ano')['ano'].count()"
   ]
  },
  {
   "cell_type": "code",
   "execution_count": 24,
   "id": "c2e36d0a-3c01-45de-9ba8-9bb8c5246e5c",
   "metadata": {},
   "outputs": [
    {
     "data": {
      "text/plain": [
       "cole_naturaleza\n",
       "NO OFICIAL    141852\n",
       "OFICIAL       591938\n",
       "Name: cole_naturaleza, dtype: int64"
      ]
     },
     "execution_count": 24,
     "metadata": {},
     "output_type": "execute_result"
    }
   ],
   "source": [
    "# Data by sector\n",
    "\n",
    "data.groupby('cole_naturaleza')['cole_naturaleza'].count()"
   ]
  },
  {
   "cell_type": "markdown",
   "id": "05a9eaab-4c9a-4dc1-9705-9fc1bf4946d9",
   "metadata": {},
   "source": [
    "## Dropping unrequired variables"
   ]
  },
  {
   "cell_type": "code",
   "execution_count": 25,
   "id": "954d042b-5ce8-42ee-b2ff-8d3a7d64ed52",
   "metadata": {},
   "outputs": [],
   "source": [
    "data = data.drop(columns=['cole_calendario', 'estu_grado', 'periodo',\n",
    "                          'estu_fechanacimiento', 'estu_fechapresentacion'])"
   ]
  },
  {
   "cell_type": "markdown",
   "id": "2721114b-6ec2-4be0-9f4d-303ad464dd22",
   "metadata": {},
   "source": [
    "## Replacing to 'numeric strings'"
   ]
  },
  {
   "cell_type": "code",
   "execution_count": 26,
   "id": "ab0ccd6e-cd9a-4675-81a4-dafaf22a16ce",
   "metadata": {},
   "outputs": [],
   "source": [
    "# Binary bilingual institution\n",
    "# map1 = {'N': 0, 'S': 1}\n",
    "\n",
    "# Yes/Not family questions\n",
    "# map2 = {'No': 0, 'Si': 1}\n",
    "\n",
    "# Now we can replace 'strings' to 'numeric strings' in the dataframe:\n",
    "\n",
    "data = data.replace({'N': '0.0', 'S': '1.0',\n",
    "                     'No': '0.0', 'Si': '1.0'})"
   ]
  },
  {
   "cell_type": "markdown",
   "id": "5a534606-9738-412c-b598-eeb3922354a6",
   "metadata": {},
   "source": [
    "## Dtype Transformation"
   ]
  },
  {
   "cell_type": "code",
   "execution_count": 27,
   "id": "52e922b3-ced5-4f31-9ac8-b35cec09abf5",
   "metadata": {},
   "outputs": [],
   "source": [
    "# Now we transform this 'strings' variables to 'float' as well as test scores\n",
    "\n",
    "data = data.astype({'cole_cod_depto_ubicacion': 'float64',\n",
    "                    'cole_cod_mcpio_ubicacion': 'float64',\n",
    "                    'cole_bilingue': 'float64',\n",
    "                    'fami_tieneautomovil': 'float64',\n",
    "                    'fami_tienecomputador': 'float64',\n",
    "                    'fami_tieneinternet': 'float64',\n",
    "                    'fami_tienelavadora': 'float64',\n",
    "                    'punt_matematicas': 'float64',\n",
    "                    'punt_sociales_ciudadanas': 'float64',\n",
    "                    'punt_c_naturales': 'float64',\n",
    "                    'punt_lectura_critica': 'float64',\n",
    "                    'punt_global': 'float64'})"
   ]
  },
  {
   "cell_type": "markdown",
   "id": "450ad975-1229-4af9-9513-4797cf7e6dad",
   "metadata": {},
   "source": [
    "## Mapping the socioeconomic stratum"
   ]
  },
  {
   "cell_type": "code",
   "execution_count": 28,
   "id": "27aaa2fc-f4ba-41b2-8494-6f98974490d7",
   "metadata": {},
   "outputs": [],
   "source": [
    "# We are using the family's socioeconomic stratum as controls in regressions\n",
    "\n",
    "strat = {'Sin Estrato': 0.0, 'Estrato 1': 1.0,\n",
    "         'Estrato 2': 2.0, 'Estrato 3': 3.0,\n",
    "         'Estrato 4': 4.0, 'Estrato 5': 5.0,\n",
    "         'Estrato 6': 6.0}\n",
    "\n",
    "data['fami_estratovivienda'] = data['fami_estratovivienda'].map(strat)"
   ]
  },
  {
   "cell_type": "markdown",
   "id": "34235d80-e3f9-4609-8ea5-312484df23e7",
   "metadata": {},
   "source": [
    "## Filtering, mapping and estimating the parents' education"
   ]
  },
  {
   "cell_type": "code",
   "execution_count": 29,
   "id": "8711ca65-e104-43a2-b0a5-0044cdc6f25c",
   "metadata": {},
   "outputs": [],
   "source": [
    "# The idea is to estimate the mother’s and father’s years of schooling. But first we are filtering out 'No sabe' and 'No Aplica':\n",
    "\n",
    "names = ['No sabe', 'No Aplica']\n",
    "\n",
    "# Filtering out in mother's education:\n",
    "\n",
    "data = (data[~data['fami_educacionmadre'].isin(names)]\n",
    "        .reset_index(drop=True))\n",
    "\n",
    "# Filtering out in father's education:\n",
    "\n",
    "data = (data[~data['fami_educacionpadre'].isin(names)]\n",
    "        .reset_index(drop=True))"
   ]
  },
  {
   "cell_type": "code",
   "execution_count": 30,
   "id": "8e0db7a5-a089-4ee2-958d-82d840c1b733",
   "metadata": {},
   "outputs": [],
   "source": [
    "# Now we estimate the average year of schooling:\n",
    "\n",
    "education = {'Secundaria (Bachillerato) completa': 14.0,\n",
    "             'Primaria incompleta': 6.0,\n",
    "             'Secundaria (Bachillerato) incompleta': 11.0,\n",
    "             'Educación profesional completa': 19.0,\n",
    "             'Primaria completa': 8.0,\n",
    "             'Técnica o tecnológica completa': 16.0,\n",
    "             'Ninguno': 0.0,\n",
    "             'Postgrado': 22.0,\n",
    "             'Técnica o tecnológica incompleta': 15.0,\n",
    "             'Educación profesional incompleta': 17.0}\n",
    "\n",
    "data['fami_educacionmadre'] = data['fami_educacionmadre'].map(education)\n",
    "\n",
    "data['fami_educacionpadre'] = data['fami_educacionpadre'].map(education)"
   ]
  },
  {
   "cell_type": "code",
   "execution_count": 31,
   "id": "e2a106b3-5772-4248-9d1f-ae5d0cabb634",
   "metadata": {},
   "outputs": [
    {
     "data": {
      "text/plain": [
       "(667474, 27)"
      ]
     },
     "execution_count": 31,
     "metadata": {},
     "output_type": "execute_result"
    }
   ],
   "source": [
    "data.shape"
   ]
  },
  {
   "cell_type": "code",
   "execution_count": 32,
   "id": "deab6c8e-b31c-4665-b6ba-3fc9fe0de2c3",
   "metadata": {},
   "outputs": [
    {
     "data": {
      "text/plain": [
       "ano\n",
       "2019    340765\n",
       "2022    326709\n",
       "Name: ano, dtype: int64"
      ]
     },
     "execution_count": 32,
     "metadata": {},
     "output_type": "execute_result"
    }
   ],
   "source": [
    "# Data by year\n",
    "\n",
    "data.groupby('ano')['ano'].count()"
   ]
  },
  {
   "cell_type": "code",
   "execution_count": 33,
   "id": "da185593-403d-4ee8-9703-4ad3ebe7409b",
   "metadata": {},
   "outputs": [
    {
     "data": {
      "text/plain": [
       "cole_naturaleza\n",
       "NO OFICIAL    127932\n",
       "OFICIAL       539542\n",
       "Name: cole_naturaleza, dtype: int64"
      ]
     },
     "execution_count": 33,
     "metadata": {},
     "output_type": "execute_result"
    }
   ],
   "source": [
    "# Data by sector\n",
    "\n",
    "data.groupby('cole_naturaleza')['cole_naturaleza'].count()"
   ]
  },
  {
   "cell_type": "markdown",
   "id": "afe8d384-1013-400f-9b3d-2e63bf160de4",
   "metadata": {},
   "source": [
    "## Dummy variables"
   ]
  },
  {
   "cell_type": "code",
   "execution_count": 34,
   "id": "459ea93e-3df8-4e99-93c5-c297042a01ac",
   "metadata": {},
   "outputs": [],
   "source": [
    "# Now we can create the dummy/binary variables for 'Ubicación', 'Cole_Naturaleza', and 'Género':\n",
    "\n",
    "names2 = ['cole_area_ubicacion', 'cole_naturaleza', 'estu_genero']\n",
    "\n",
    "dummies = pd.get_dummies(data=data[names2],\n",
    "                         dtype=float)\n",
    "\n",
    "dummies2 = pd.get_dummies(data=data['ano'],\n",
    "                          prefix='ano',\n",
    "                          dtype=float)\n",
    "\n",
    "data_with_dummies = (\n",
    "    data\n",
    "        .drop(columns=names2)\n",
    "        .join(dummies)\n",
    "        .join(dummies2)\n",
    ")"
   ]
  },
  {
   "cell_type": "code",
   "execution_count": 35,
   "id": "a7664fa8-c9bc-4884-b7cb-641d0ecad14b",
   "metadata": {},
   "outputs": [
    {
     "data": {
      "text/plain": [
       "(667474, 32)"
      ]
     },
     "execution_count": 35,
     "metadata": {},
     "output_type": "execute_result"
    }
   ],
   "source": [
    "data_with_dummies.shape"
   ]
  },
  {
   "cell_type": "markdown",
   "id": "3fab80eb-e2b4-40bb-8590-3daecd0a9f15",
   "metadata": {},
   "source": [
    "## Graph"
   ]
  },
  {
   "cell_type": "code",
   "execution_count": 36,
   "id": "c31379bd-2de7-41be-9b60-c33f8bcc183d",
   "metadata": {},
   "outputs": [],
   "source": [
    "# ICFES reports the time of students in internet and reading as a hobby:\n",
    "\n",
    "#d1 = (\n",
    "#    data\n",
    "#        .loc[:, ['ano', 'estu_dedicacioninternet', 'estu_dedicacionlecturadiaria']]\n",
    "#        .rename(columns={'ano': 'Año',\n",
    "#                         'estu_dedicacioninternet':'Tiempo en internet',\n",
    "#                         'estu_dedicacionlecturadiaria':'Tiempo en lectura'})\n",
    "#)\n",
    "\n",
    "#sns.set_style('ticks')\n",
    "#g1 = sns.countplot(d1, y='Tiempo en internet', hue='Año')\n",
    "#plt.title('Tiempo en internet fuera del aula');\n",
    "#plt.savefig('tiempo_internet.pdf', bbox_inches='tight')"
   ]
  },
  {
   "cell_type": "code",
   "execution_count": 37,
   "id": "36ff7b62-60ac-40bb-a395-978129c59203",
   "metadata": {},
   "outputs": [],
   "source": [
    "# Time in reading\n",
    "\n",
    "# g2 = sns.countplot(d1, y='Tiempo en lectura', hue='Año')\n",
    "# plt.title('Tiempo de lectura como hobby');\n",
    "# plt.savefig('tiempo_lectura.pdf', bbox_inches='tight')"
   ]
  },
  {
   "cell_type": "code",
   "execution_count": 38,
   "id": "b188dbb1-369c-4f73-9b3c-d0da91b07c38",
   "metadata": {},
   "outputs": [],
   "source": [
    "# No need in the final df, so now we drop the columns\n",
    "\n",
    "data_with_dummies = data_with_dummies.drop(columns=['estu_dedicacioninternet',\n",
    "                                                    'estu_dedicacionlecturadiaria'])"
   ]
  },
  {
   "cell_type": "markdown",
   "id": "54df4711-f3e0-4928-b570-2772cc866c72",
   "metadata": {},
   "source": [
    "## Exporting data"
   ]
  },
  {
   "cell_type": "code",
   "execution_count": 39,
   "id": "fbec8a16-24e4-4114-8934-de1ca54fe7df",
   "metadata": {},
   "outputs": [],
   "source": [
    "# data_with_dummies.to_csv(\"saber11_2019_2022_cleaned.csv\")"
   ]
  }
 ],
 "metadata": {
  "kernelspec": {
   "display_name": "Python 3 (ipykernel)",
   "language": "python",
   "name": "python3"
  },
  "language_info": {
   "codemirror_mode": {
    "name": "ipython",
    "version": 3
   },
   "file_extension": ".py",
   "mimetype": "text/x-python",
   "name": "python",
   "nbconvert_exporter": "python",
   "pygments_lexer": "ipython3",
   "version": "3.13.2"
  }
 },
 "nbformat": 4,
 "nbformat_minor": 5
}
