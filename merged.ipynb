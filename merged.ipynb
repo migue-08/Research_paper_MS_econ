{
 "cells": [
  {
   "cell_type": "code",
   "execution_count": 1,
   "id": "4f9beaab-f86b-48aa-acca-47788a8afd5e",
   "metadata": {},
   "outputs": [],
   "source": [
    "import numpy as np\n",
    "import os\n",
    "import matplotlib.pyplot as plt\n",
    "import pandas as pd\n",
    "import seaborn as sns\n",
    "plt.rc(\"figure\", figsize=(10, 6))\n",
    "np.set_printoptions(precision=4)\n",
    "pd.options.display.max_columns = 20\n",
    "pd.options.display.max_rows = 20\n",
    "pd.options.display.max_colwidth = 80"
   ]
  },
  {
   "cell_type": "markdown",
   "id": "409d42ca-5f2d-4745-9f25-84f5c58fbacd",
   "metadata": {},
   "source": [
    "## Load data"
   ]
  },
  {
   "cell_type": "code",
   "execution_count": 2,
   "id": "9039d930-78f3-4f2f-8e93-75a7dd75159b",
   "metadata": {},
   "outputs": [],
   "source": [
    "# First, we load dataframes with 'pandas.read_csv': \n",
    "\n",
    "# Saber 11\n",
    "\n",
    "df1 = pd.read_csv(\"saber11_2019_2022_cleaned.csv\",\n",
    "                  delimiter=\",\",\n",
    "                  index_col=0)\n",
    "\n",
    "# Scholar census\n",
    "\n",
    "df2 = pd.read_csv(\"acceso_tecnologico.csv\",\n",
    "                  delimiter=\",\",\n",
    "                  index_col=0)"
   ]
  },
  {
   "cell_type": "markdown",
   "id": "d22cd2ec-fe28-4be2-84bb-93370b2f7352",
   "metadata": {},
   "source": [
    "## Merging dataframes"
   ]
  },
  {
   "cell_type": "code",
   "execution_count": 3,
   "id": "419880a7-1540-454e-bf05-6e3da95e400c",
   "metadata": {},
   "outputs": [],
   "source": [
    "# Now, we merge the dataframes based on the keys: 1)'Código DANE de la Sede educativa' and 2) 'Año'.\n",
    "\n",
    "# Before, we rename for the same variable names:\n",
    "\n",
    "df2 = df2.rename(columns={'SEDE_CODIGO': 'COLE_COD_DANE_SEDE',\n",
    "                          'PERIODO_ANIO': 'ANO'})\n",
    "\n",
    "data = pd.merge(df1, df2,\n",
    "                on=['COLE_COD_DANE_SEDE', 'ANO'],\n",
    "                how='inner')"
   ]
  },
  {
   "cell_type": "markdown",
   "id": "9b759f53-8ced-49cf-a25e-0d443c0ed986",
   "metadata": {},
   "source": [
    "## Creating interaction and diff-in-diff variable"
   ]
  },
  {
   "cell_type": "code",
   "execution_count": 4,
   "id": "76824fc9-c2cc-4a94-bdcf-38a67f9a0245",
   "metadata": {},
   "outputs": [],
   "source": [
    "# Interaction between family and school having computer and internet:\n",
    "\n",
    "data['ENTORNO_TECNOLOGICO'] = (data['FAMI_TIENECOMPUTADOR']\n",
    "                               .mul(data['FAMI_TIENEINTERNET'])\n",
    "                               .mul(data['SEDETE_INTERNET'])\n",
    "                               .mul(data['SEDETE_EQUIPO_COMPUTO']))"
   ]
  },
  {
   "cell_type": "code",
   "execution_count": 5,
   "id": "19290fac-1971-4a5c-89aa-cd21917195d9",
   "metadata": {},
   "outputs": [],
   "source": [
    "# Interaction between year and family and school having computer and internet:\n",
    "\n",
    "data['2022_X_ENTORNO_TECNOLOGICO'] = (data['ANO_2022']\n",
    "                                      .mul(data['ENTORNO_TECNOLOGICO']))"
   ]
  },
  {
   "cell_type": "markdown",
   "id": "dc3a6509-9102-4935-b4a3-9a98bc37a906",
   "metadata": {},
   "source": [
    "## Transform column names"
   ]
  },
  {
   "cell_type": "code",
   "execution_count": 6,
   "id": "c1eb331a-5ad9-45cc-a25c-c5b16e00cce1",
   "metadata": {},
   "outputs": [],
   "source": [
    "# Using the rename function, we transform the column names in Capitalize:\n",
    "\n",
    "data = data.rename(columns=str.capitalize)"
   ]
  },
  {
   "cell_type": "code",
   "execution_count": 7,
   "id": "1d4ef4bc-25c4-45c7-b84c-64d037dbb3fe",
   "metadata": {},
   "outputs": [
    {
     "name": "stdout",
     "output_type": "stream",
     "text": [
      "<class 'pandas.core.frame.DataFrame'>\n",
      "RangeIndex: 749357 entries, 0 to 749356\n",
      "Data columns (total 28 columns):\n",
      " #   Column                      Non-Null Count   Dtype  \n",
      "---  ------                      --------------   -----  \n",
      " 0   Ano                         749357 non-null  int64  \n",
      " 1   Cole_bilingue               749357 non-null  float64\n",
      " 2   Cole_cod_dane_sede          749357 non-null  float64\n",
      " 3   Fami_educacionmadre         749357 non-null  float64\n",
      " 4   Fami_educacionpadre         749357 non-null  float64\n",
      " 5   Fami_tieneautomovil         749357 non-null  float64\n",
      " 6   Fami_tienecomputador        749357 non-null  float64\n",
      " 7   Fami_tieneinternet          749357 non-null  float64\n",
      " 8   Fami_tienelavadora          749357 non-null  float64\n",
      " 9   Punt_ingles                 749357 non-null  float64\n",
      " 10  Punt_matematicas            749357 non-null  float64\n",
      " 11  Punt_sociales_ciudadanas    749357 non-null  float64\n",
      " 12  Punt_c_naturales            749357 non-null  float64\n",
      " 13  Punt_lectura_critica        749357 non-null  float64\n",
      " 14  Punt_global                 749357 non-null  float64\n",
      " 15  Edad                        749357 non-null  float64\n",
      " 16  Cole_area_ubicacion_rural   749357 non-null  float64\n",
      " 17  Cole_area_ubicacion_urbano  749357 non-null  float64\n",
      " 18  Cole_naturaleza_no oficial  749357 non-null  float64\n",
      " 19  Cole_naturaleza_oficial     749357 non-null  float64\n",
      " 20  Estu_genero_f               749357 non-null  float64\n",
      " 21  Estu_genero_m               749357 non-null  float64\n",
      " 22  Ano_2019                    749357 non-null  float64\n",
      " 23  Ano_2022                    749357 non-null  float64\n",
      " 24  Sedete_internet             749357 non-null  float64\n",
      " 25  Sedete_equipo_computo       749357 non-null  float64\n",
      " 26  Entorno_tecnologico         749357 non-null  float64\n",
      " 27  2022_x_entorno_tecnologico  749357 non-null  float64\n",
      "dtypes: float64(27), int64(1)\n",
      "memory usage: 160.1 MB\n"
     ]
    }
   ],
   "source": [
    "data.info()"
   ]
  },
  {
   "cell_type": "markdown",
   "id": "cf45961c-92be-444c-a8c2-68f49bdb038a",
   "metadata": {},
   "source": [
    "## Standardize test scores"
   ]
  },
  {
   "cell_type": "markdown",
   "id": "ec9fc495-8826-4548-b6f6-45c98c6a31a1",
   "metadata": {},
   "source": [
    "The idea here is to standardize the test scores (ie. to have mean of zero and a variance of 1) by computing the test scores (global, matematicas, ingles, ciencias natutales, etc ) as $z = \\frac{x - \\mu}{\\sigma}$, where:\n",
    "- $\\mu$: is the mean of the popultaion.\n",
    "- $\\sigma$ is the standard deviation of the population."
   ]
  },
  {
   "cell_type": "code",
   "execution_count": 8,
   "id": "d04f2716-6db7-425e-96bd-fb5b3f7f1491",
   "metadata": {},
   "outputs": [],
   "source": [
    "from sklearn.preprocessing import StandardScaler\n",
    "\n",
    "scaler = StandardScaler()"
   ]
  },
  {
   "cell_type": "code",
   "execution_count": 9,
   "id": "61f8d58b-fdd9-478d-aed5-1d00eadd76c6",
   "metadata": {},
   "outputs": [],
   "source": [
    "# Define the columns to standardize\n",
    "\n",
    "names = ['Punt_ingles', 'Punt_matematicas', 'Punt_sociales_ciudadanas',\n",
    "         'Punt_c_naturales', 'Punt_lectura_critica', 'Punt_global']"
   ]
  },
  {
   "cell_type": "code",
   "execution_count": 10,
   "id": "eb5c07fb-340c-4e55-94c9-0c36eedb1173",
   "metadata": {},
   "outputs": [
    {
     "data": {
      "text/plain": [
       "array([[ 1.5582,  1.1714,  1.7993,  1.4355,  1.467 ,  1.6406],\n",
       "       [-0.334 , -0.7324, -1.386 , -0.9118, -0.9833, -1.0482],\n",
       "       [ 0.8013,  1.0059,  0.0842,  0.8721,  0.9016,  0.7956],\n",
       "       ...,\n",
       "       [-0.1826,  0.0954, -0.8142, -0.4423, -0.3236, -0.3952],\n",
       "       [ 1.7095,  1.2542,  0.7376,  1.1538,  0.9016,  1.1797],\n",
       "       [-0.9395, -1.3946, -1.0593, -0.4423, -1.5488, -1.221 ]],\n",
       "      shape=(749357, 6))"
      ]
     },
     "execution_count": 10,
     "metadata": {},
     "output_type": "execute_result"
    }
   ],
   "source": [
    "# Standarizing the tests scores\n",
    "\n",
    "data2 = scaler.fit_transform(data.reindex(columns=names))\n",
    "\n",
    "data2"
   ]
  },
  {
   "cell_type": "code",
   "execution_count": 11,
   "id": "dbb50d26-de0a-4253-a987-372734630325",
   "metadata": {},
   "outputs": [],
   "source": [
    "# Now we set the standardized variables from numpy.array to pandas.DataFrame\n",
    "\n",
    "data2 = pd.DataFrame(data2, columns=['Punt_ingles_std', 'Punt_matematicas_std', 'Punt_sociales_ciudadanas_std',\n",
    "                                     'Punt_c_naturales_std', 'Punt_lectura_critica_std', 'Punt_global_std'])"
   ]
  },
  {
   "cell_type": "code",
   "execution_count": 12,
   "id": "4c9c4a08-74d8-4713-94ab-4068b4036f62",
   "metadata": {},
   "outputs": [
    {
     "data": {
      "text/html": [
       "<div>\n",
       "<style scoped>\n",
       "    .dataframe tbody tr th:only-of-type {\n",
       "        vertical-align: middle;\n",
       "    }\n",
       "\n",
       "    .dataframe tbody tr th {\n",
       "        vertical-align: top;\n",
       "    }\n",
       "\n",
       "    .dataframe thead th {\n",
       "        text-align: right;\n",
       "    }\n",
       "</style>\n",
       "<table border=\"1\" class=\"dataframe\">\n",
       "  <thead>\n",
       "    <tr style=\"text-align: right;\">\n",
       "      <th></th>\n",
       "      <th>Ano</th>\n",
       "      <th>Cole_bilingue</th>\n",
       "      <th>Cole_cod_dane_sede</th>\n",
       "      <th>Fami_educacionmadre</th>\n",
       "      <th>Fami_educacionpadre</th>\n",
       "      <th>Fami_tieneautomovil</th>\n",
       "      <th>Fami_tienecomputador</th>\n",
       "      <th>Fami_tieneinternet</th>\n",
       "      <th>Fami_tienelavadora</th>\n",
       "      <th>Punt_ingles</th>\n",
       "      <th>...</th>\n",
       "      <th>Sedete_internet</th>\n",
       "      <th>Sedete_equipo_computo</th>\n",
       "      <th>Entorno_tecnologico</th>\n",
       "      <th>2022_x_entorno_tecnologico</th>\n",
       "      <th>Punt_ingles_std</th>\n",
       "      <th>Punt_matematicas_std</th>\n",
       "      <th>Punt_sociales_ciudadanas_std</th>\n",
       "      <th>Punt_c_naturales_std</th>\n",
       "      <th>Punt_lectura_critica_std</th>\n",
       "      <th>Punt_global_std</th>\n",
       "    </tr>\n",
       "  </thead>\n",
       "  <tbody>\n",
       "    <tr>\n",
       "      <th>0</th>\n",
       "      <td>2019</td>\n",
       "      <td>0.0</td>\n",
       "      <td>2.410160e+11</td>\n",
       "      <td>22.0</td>\n",
       "      <td>8.0</td>\n",
       "      <td>0.0</td>\n",
       "      <td>1.0</td>\n",
       "      <td>1.0</td>\n",
       "      <td>1.0</td>\n",
       "      <td>71.0</td>\n",
       "      <td>...</td>\n",
       "      <td>0.0</td>\n",
       "      <td>1.0</td>\n",
       "      <td>0.0</td>\n",
       "      <td>0.0</td>\n",
       "      <td>1.558168</td>\n",
       "      <td>1.171404</td>\n",
       "      <td>1.799349</td>\n",
       "      <td>1.435453</td>\n",
       "      <td>1.467011</td>\n",
       "      <td>1.640599</td>\n",
       "    </tr>\n",
       "    <tr>\n",
       "      <th>1</th>\n",
       "      <td>2019</td>\n",
       "      <td>0.0</td>\n",
       "      <td>1.413960e+11</td>\n",
       "      <td>6.0</td>\n",
       "      <td>6.0</td>\n",
       "      <td>0.0</td>\n",
       "      <td>0.0</td>\n",
       "      <td>0.0</td>\n",
       "      <td>0.0</td>\n",
       "      <td>46.0</td>\n",
       "      <td>...</td>\n",
       "      <td>1.0</td>\n",
       "      <td>1.0</td>\n",
       "      <td>0.0</td>\n",
       "      <td>0.0</td>\n",
       "      <td>-0.333983</td>\n",
       "      <td>-0.732379</td>\n",
       "      <td>-1.385960</td>\n",
       "      <td>-0.911761</td>\n",
       "      <td>-0.983315</td>\n",
       "      <td>-1.048179</td>\n",
       "    </tr>\n",
       "    <tr>\n",
       "      <th>2</th>\n",
       "      <td>2019</td>\n",
       "      <td>0.0</td>\n",
       "      <td>1.680010e+11</td>\n",
       "      <td>17.0</td>\n",
       "      <td>14.0</td>\n",
       "      <td>0.0</td>\n",
       "      <td>1.0</td>\n",
       "      <td>1.0</td>\n",
       "      <td>1.0</td>\n",
       "      <td>61.0</td>\n",
       "      <td>...</td>\n",
       "      <td>1.0</td>\n",
       "      <td>1.0</td>\n",
       "      <td>1.0</td>\n",
       "      <td>0.0</td>\n",
       "      <td>0.801307</td>\n",
       "      <td>1.005857</td>\n",
       "      <td>0.084182</td>\n",
       "      <td>0.872122</td>\n",
       "      <td>0.901551</td>\n",
       "      <td>0.795554</td>\n",
       "    </tr>\n",
       "    <tr>\n",
       "      <th>3</th>\n",
       "      <td>2019</td>\n",
       "      <td>0.0</td>\n",
       "      <td>1.053600e+11</td>\n",
       "      <td>14.0</td>\n",
       "      <td>6.0</td>\n",
       "      <td>0.0</td>\n",
       "      <td>1.0</td>\n",
       "      <td>1.0</td>\n",
       "      <td>1.0</td>\n",
       "      <td>52.0</td>\n",
       "      <td>...</td>\n",
       "      <td>1.0</td>\n",
       "      <td>1.0</td>\n",
       "      <td>1.0</td>\n",
       "      <td>0.0</td>\n",
       "      <td>0.120133</td>\n",
       "      <td>1.171404</td>\n",
       "      <td>0.737579</td>\n",
       "      <td>0.778233</td>\n",
       "      <td>-0.512099</td>\n",
       "      <td>0.584293</td>\n",
       "    </tr>\n",
       "    <tr>\n",
       "      <th>4</th>\n",
       "      <td>2019</td>\n",
       "      <td>0.0</td>\n",
       "      <td>1.138380e+11</td>\n",
       "      <td>6.0</td>\n",
       "      <td>6.0</td>\n",
       "      <td>0.0</td>\n",
       "      <td>0.0</td>\n",
       "      <td>1.0</td>\n",
       "      <td>1.0</td>\n",
       "      <td>40.0</td>\n",
       "      <td>...</td>\n",
       "      <td>1.0</td>\n",
       "      <td>1.0</td>\n",
       "      <td>0.0</td>\n",
       "      <td>0.0</td>\n",
       "      <td>-0.788100</td>\n",
       "      <td>-1.477338</td>\n",
       "      <td>-0.814238</td>\n",
       "      <td>-1.662869</td>\n",
       "      <td>-0.983315</td>\n",
       "      <td>-1.317057</td>\n",
       "    </tr>\n",
       "    <tr>\n",
       "      <th>...</th>\n",
       "      <td>...</td>\n",
       "      <td>...</td>\n",
       "      <td>...</td>\n",
       "      <td>...</td>\n",
       "      <td>...</td>\n",
       "      <td>...</td>\n",
       "      <td>...</td>\n",
       "      <td>...</td>\n",
       "      <td>...</td>\n",
       "      <td>...</td>\n",
       "      <td>...</td>\n",
       "      <td>...</td>\n",
       "      <td>...</td>\n",
       "      <td>...</td>\n",
       "      <td>...</td>\n",
       "      <td>...</td>\n",
       "      <td>...</td>\n",
       "      <td>...</td>\n",
       "      <td>...</td>\n",
       "      <td>...</td>\n",
       "      <td>...</td>\n",
       "    </tr>\n",
       "    <tr>\n",
       "      <th>749352</th>\n",
       "      <td>2022</td>\n",
       "      <td>1.0</td>\n",
       "      <td>3.117690e+11</td>\n",
       "      <td>19.0</td>\n",
       "      <td>19.0</td>\n",
       "      <td>1.0</td>\n",
       "      <td>1.0</td>\n",
       "      <td>1.0</td>\n",
       "      <td>1.0</td>\n",
       "      <td>100.0</td>\n",
       "      <td>...</td>\n",
       "      <td>1.0</td>\n",
       "      <td>1.0</td>\n",
       "      <td>1.0</td>\n",
       "      <td>1.0</td>\n",
       "      <td>3.753064</td>\n",
       "      <td>1.833589</td>\n",
       "      <td>1.799349</td>\n",
       "      <td>2.374338</td>\n",
       "      <td>1.561254</td>\n",
       "      <td>2.274382</td>\n",
       "    </tr>\n",
       "    <tr>\n",
       "      <th>749353</th>\n",
       "      <td>2022</td>\n",
       "      <td>1.0</td>\n",
       "      <td>3.110011e+11</td>\n",
       "      <td>19.0</td>\n",
       "      <td>19.0</td>\n",
       "      <td>1.0</td>\n",
       "      <td>1.0</td>\n",
       "      <td>1.0</td>\n",
       "      <td>1.0</td>\n",
       "      <td>76.0</td>\n",
       "      <td>...</td>\n",
       "      <td>1.0</td>\n",
       "      <td>1.0</td>\n",
       "      <td>1.0</td>\n",
       "      <td>1.0</td>\n",
       "      <td>1.936598</td>\n",
       "      <td>0.260899</td>\n",
       "      <td>0.492555</td>\n",
       "      <td>0.590456</td>\n",
       "      <td>0.241848</td>\n",
       "      <td>0.584293</td>\n",
       "    </tr>\n",
       "    <tr>\n",
       "      <th>749354</th>\n",
       "      <td>2022</td>\n",
       "      <td>0.0</td>\n",
       "      <td>3.110011e+11</td>\n",
       "      <td>11.0</td>\n",
       "      <td>6.0</td>\n",
       "      <td>0.0</td>\n",
       "      <td>1.0</td>\n",
       "      <td>1.0</td>\n",
       "      <td>1.0</td>\n",
       "      <td>48.0</td>\n",
       "      <td>...</td>\n",
       "      <td>1.0</td>\n",
       "      <td>1.0</td>\n",
       "      <td>1.0</td>\n",
       "      <td>1.0</td>\n",
       "      <td>-0.182611</td>\n",
       "      <td>0.095352</td>\n",
       "      <td>-0.814238</td>\n",
       "      <td>-0.442318</td>\n",
       "      <td>-0.323612</td>\n",
       "      <td>-0.395190</td>\n",
       "    </tr>\n",
       "    <tr>\n",
       "      <th>749355</th>\n",
       "      <td>2022</td>\n",
       "      <td>1.0</td>\n",
       "      <td>3.110010e+11</td>\n",
       "      <td>22.0</td>\n",
       "      <td>22.0</td>\n",
       "      <td>1.0</td>\n",
       "      <td>1.0</td>\n",
       "      <td>1.0</td>\n",
       "      <td>1.0</td>\n",
       "      <td>73.0</td>\n",
       "      <td>...</td>\n",
       "      <td>1.0</td>\n",
       "      <td>1.0</td>\n",
       "      <td>1.0</td>\n",
       "      <td>1.0</td>\n",
       "      <td>1.709540</td>\n",
       "      <td>1.254177</td>\n",
       "      <td>0.737579</td>\n",
       "      <td>1.153787</td>\n",
       "      <td>0.901551</td>\n",
       "      <td>1.179666</td>\n",
       "    </tr>\n",
       "    <tr>\n",
       "      <th>749356</th>\n",
       "      <td>2022</td>\n",
       "      <td>0.0</td>\n",
       "      <td>3.110011e+11</td>\n",
       "      <td>14.0</td>\n",
       "      <td>14.0</td>\n",
       "      <td>1.0</td>\n",
       "      <td>1.0</td>\n",
       "      <td>1.0</td>\n",
       "      <td>1.0</td>\n",
       "      <td>38.0</td>\n",
       "      <td>...</td>\n",
       "      <td>1.0</td>\n",
       "      <td>1.0</td>\n",
       "      <td>1.0</td>\n",
       "      <td>1.0</td>\n",
       "      <td>-0.939472</td>\n",
       "      <td>-1.394565</td>\n",
       "      <td>-1.059262</td>\n",
       "      <td>-0.442318</td>\n",
       "      <td>-1.548775</td>\n",
       "      <td>-1.221029</td>\n",
       "    </tr>\n",
       "  </tbody>\n",
       "</table>\n",
       "<p>749357 rows × 34 columns</p>\n",
       "</div>"
      ],
      "text/plain": [
       "         Ano  Cole_bilingue  Cole_cod_dane_sede  Fami_educacionmadre  \\\n",
       "0       2019            0.0        2.410160e+11                 22.0   \n",
       "1       2019            0.0        1.413960e+11                  6.0   \n",
       "2       2019            0.0        1.680010e+11                 17.0   \n",
       "3       2019            0.0        1.053600e+11                 14.0   \n",
       "4       2019            0.0        1.138380e+11                  6.0   \n",
       "...      ...            ...                 ...                  ...   \n",
       "749352  2022            1.0        3.117690e+11                 19.0   \n",
       "749353  2022            1.0        3.110011e+11                 19.0   \n",
       "749354  2022            0.0        3.110011e+11                 11.0   \n",
       "749355  2022            1.0        3.110010e+11                 22.0   \n",
       "749356  2022            0.0        3.110011e+11                 14.0   \n",
       "\n",
       "        Fami_educacionpadre  Fami_tieneautomovil  Fami_tienecomputador  \\\n",
       "0                       8.0                  0.0                   1.0   \n",
       "1                       6.0                  0.0                   0.0   \n",
       "2                      14.0                  0.0                   1.0   \n",
       "3                       6.0                  0.0                   1.0   \n",
       "4                       6.0                  0.0                   0.0   \n",
       "...                     ...                  ...                   ...   \n",
       "749352                 19.0                  1.0                   1.0   \n",
       "749353                 19.0                  1.0                   1.0   \n",
       "749354                  6.0                  0.0                   1.0   \n",
       "749355                 22.0                  1.0                   1.0   \n",
       "749356                 14.0                  1.0                   1.0   \n",
       "\n",
       "        Fami_tieneinternet  Fami_tienelavadora  Punt_ingles  ...  \\\n",
       "0                      1.0                 1.0         71.0  ...   \n",
       "1                      0.0                 0.0         46.0  ...   \n",
       "2                      1.0                 1.0         61.0  ...   \n",
       "3                      1.0                 1.0         52.0  ...   \n",
       "4                      1.0                 1.0         40.0  ...   \n",
       "...                    ...                 ...          ...  ...   \n",
       "749352                 1.0                 1.0        100.0  ...   \n",
       "749353                 1.0                 1.0         76.0  ...   \n",
       "749354                 1.0                 1.0         48.0  ...   \n",
       "749355                 1.0                 1.0         73.0  ...   \n",
       "749356                 1.0                 1.0         38.0  ...   \n",
       "\n",
       "        Sedete_internet  Sedete_equipo_computo  Entorno_tecnologico  \\\n",
       "0                   0.0                    1.0                  0.0   \n",
       "1                   1.0                    1.0                  0.0   \n",
       "2                   1.0                    1.0                  1.0   \n",
       "3                   1.0                    1.0                  1.0   \n",
       "4                   1.0                    1.0                  0.0   \n",
       "...                 ...                    ...                  ...   \n",
       "749352              1.0                    1.0                  1.0   \n",
       "749353              1.0                    1.0                  1.0   \n",
       "749354              1.0                    1.0                  1.0   \n",
       "749355              1.0                    1.0                  1.0   \n",
       "749356              1.0                    1.0                  1.0   \n",
       "\n",
       "        2022_x_entorno_tecnologico  Punt_ingles_std  Punt_matematicas_std  \\\n",
       "0                              0.0         1.558168              1.171404   \n",
       "1                              0.0        -0.333983             -0.732379   \n",
       "2                              0.0         0.801307              1.005857   \n",
       "3                              0.0         0.120133              1.171404   \n",
       "4                              0.0        -0.788100             -1.477338   \n",
       "...                            ...              ...                   ...   \n",
       "749352                         1.0         3.753064              1.833589   \n",
       "749353                         1.0         1.936598              0.260899   \n",
       "749354                         1.0        -0.182611              0.095352   \n",
       "749355                         1.0         1.709540              1.254177   \n",
       "749356                         1.0        -0.939472             -1.394565   \n",
       "\n",
       "        Punt_sociales_ciudadanas_std  Punt_c_naturales_std  \\\n",
       "0                           1.799349              1.435453   \n",
       "1                          -1.385960             -0.911761   \n",
       "2                           0.084182              0.872122   \n",
       "3                           0.737579              0.778233   \n",
       "4                          -0.814238             -1.662869   \n",
       "...                              ...                   ...   \n",
       "749352                      1.799349              2.374338   \n",
       "749353                      0.492555              0.590456   \n",
       "749354                     -0.814238             -0.442318   \n",
       "749355                      0.737579              1.153787   \n",
       "749356                     -1.059262             -0.442318   \n",
       "\n",
       "        Punt_lectura_critica_std  Punt_global_std  \n",
       "0                       1.467011         1.640599  \n",
       "1                      -0.983315        -1.048179  \n",
       "2                       0.901551         0.795554  \n",
       "3                      -0.512099         0.584293  \n",
       "4                      -0.983315        -1.317057  \n",
       "...                          ...              ...  \n",
       "749352                  1.561254         2.274382  \n",
       "749353                  0.241848         0.584293  \n",
       "749354                 -0.323612        -0.395190  \n",
       "749355                  0.901551         1.179666  \n",
       "749356                 -1.548775        -1.221029  \n",
       "\n",
       "[749357 rows x 34 columns]"
      ]
     },
     "execution_count": 12,
     "metadata": {},
     "output_type": "execute_result"
    }
   ],
   "source": [
    "# Finally we join the standarized variables to the main dataframe\n",
    "\n",
    "data = data.join(data2)\n",
    "\n",
    "data"
   ]
  },
  {
   "cell_type": "markdown",
   "id": "79123496-d158-4bd9-a44b-f378b82526f0",
   "metadata": {},
   "source": [
    "## Summary statistics"
   ]
  },
  {
   "cell_type": "code",
   "execution_count": 13,
   "id": "f1f15b09-6ea9-4eb4-a0ff-8dca66383983",
   "metadata": {},
   "outputs": [
    {
     "name": "stderr",
     "output_type": "stream",
     "text": [
      "C:\\Users\\asus\\AppData\\Local\\Temp\\ipykernel_6440\\1110093550.py:5: FutureWarning: The previous implementation of stack is deprecated and will be removed in a future version of pandas. See the What's New notes for pandas 2.1.0 for details. Specify future_stack=True to adopt the new implementation and silence this warning.\n",
      "  .stack()\n"
     ]
    }
   ],
   "source": [
    "# We calculate the summary statistics by institution area, i.e. Rural, Urbano\n",
    "\n",
    "sum_stat1 = (data.groupby(['Cole_area_ubicacion_rural', 'Cole_area_ubicacion_urbano'])\n",
    "    .agg(['count', 'mean', 'std'])\n",
    "    .stack()\n",
    "    .T)"
   ]
  },
  {
   "cell_type": "code",
   "execution_count": 14,
   "id": "0b376f0c-a196-4904-bbe6-e704178fcea8",
   "metadata": {},
   "outputs": [
    {
     "name": "stderr",
     "output_type": "stream",
     "text": [
      "C:\\Users\\asus\\AppData\\Local\\Temp\\ipykernel_6440\\308167416.py:5: FutureWarning: The previous implementation of stack is deprecated and will be removed in a future version of pandas. See the What's New notes for pandas 2.1.0 for details. Specify future_stack=True to adopt the new implementation and silence this warning.\n",
      "  .stack()\n"
     ]
    }
   ],
   "source": [
    "# We calculate the summary statistics by institution type, i.e. Oficial, No oficial\n",
    "\n",
    "sum_stat2 = (data.groupby(['Cole_naturaleza_no oficial', 'Cole_naturaleza_oficial'])\n",
    "    .agg(['count', 'mean', 'std'])\n",
    "    .stack()\n",
    "    .T)"
   ]
  },
  {
   "cell_type": "code",
   "execution_count": 15,
   "id": "c4a7b00a-4a7e-4d2e-9a1f-7782939e8bb7",
   "metadata": {},
   "outputs": [
    {
     "name": "stderr",
     "output_type": "stream",
     "text": [
      "C:\\Users\\asus\\AppData\\Local\\Temp\\ipykernel_6440\\3637622676.py:5: FutureWarning: The previous implementation of stack is deprecated and will be removed in a future version of pandas. See the What's New notes for pandas 2.1.0 for details. Specify future_stack=True to adopt the new implementation and silence this warning.\n",
      "  .stack()\n"
     ]
    }
   ],
   "source": [
    "# We calculate the summary statistics by gender, i.e. male, female\n",
    "\n",
    "sum_stat3 = (data.groupby(['Estu_genero_f', 'Estu_genero_m'])\n",
    "    .agg(['count', 'mean', 'std'])\n",
    "    .stack()\n",
    "    .T)"
   ]
  },
  {
   "cell_type": "code",
   "execution_count": 16,
   "id": "c56ca2f6-65f3-42e2-b7d9-5557f095cd2d",
   "metadata": {},
   "outputs": [
    {
     "name": "stderr",
     "output_type": "stream",
     "text": [
      "C:\\Users\\asus\\AppData\\Local\\Temp\\ipykernel_6440\\2950485391.py:5: FutureWarning: The previous implementation of stack is deprecated and will be removed in a future version of pandas. See the What's New notes for pandas 2.1.0 for details. Specify future_stack=True to adopt the new implementation and silence this warning.\n",
      "  .stack()\n"
     ]
    }
   ],
   "source": [
    "# We calculate the summary statistics by year:\n",
    "\n",
    "sum_stat4 = (data.groupby(['Ano'])\n",
    "    .agg(['count', 'mean', 'std'])\n",
    "    .stack()\n",
    "    .T)"
   ]
  },
  {
   "cell_type": "markdown",
   "id": "54df4711-f3e0-4928-b570-2772cc866c72",
   "metadata": {},
   "source": [
    "## Exporting data"
   ]
  },
  {
   "cell_type": "code",
   "execution_count": 17,
   "id": "c9f23854-262d-46f6-9590-936c09fe8063",
   "metadata": {},
   "outputs": [],
   "source": [
    "# data.to_csv(\"final_principal.csv\")"
   ]
  },
  {
   "cell_type": "code",
   "execution_count": 18,
   "id": "fbec8a16-24e4-4114-8934-de1ca54fe7df",
   "metadata": {},
   "outputs": [],
   "source": [
    "# sum_stat1.to_excel(\"summary_statistics_area.xlsx\")"
   ]
  },
  {
   "cell_type": "code",
   "execution_count": 19,
   "id": "8d719d34-9e94-42b1-b141-c53da56c3917",
   "metadata": {},
   "outputs": [],
   "source": [
    "# sum_stat2.to_excel(\"summary_statistics_type.xlsx\")"
   ]
  },
  {
   "cell_type": "code",
   "execution_count": 20,
   "id": "ae10cae3-ef88-44c0-aa70-a4bc905562e2",
   "metadata": {},
   "outputs": [],
   "source": [
    "# sum_stat3.to_excel(\"summary_statistics_gender.xlsx\")"
   ]
  },
  {
   "cell_type": "code",
   "execution_count": 21,
   "id": "23d76327-7ad0-4abc-acf3-76ca7bbe32a1",
   "metadata": {},
   "outputs": [],
   "source": [
    "# sum_stat4.to_excel(\"summary_statistics_year.xlsx\")"
   ]
  },
  {
   "cell_type": "code",
   "execution_count": null,
   "id": "2f9200b3-8e44-4de0-ab4c-fffe168cb78e",
   "metadata": {},
   "outputs": [],
   "source": []
  }
 ],
 "metadata": {
  "kernelspec": {
   "display_name": "Python 3 (ipykernel)",
   "language": "python",
   "name": "python3"
  },
  "language_info": {
   "codemirror_mode": {
    "name": "ipython",
    "version": 3
   },
   "file_extension": ".py",
   "mimetype": "text/x-python",
   "name": "python",
   "nbconvert_exporter": "python",
   "pygments_lexer": "ipython3",
   "version": "3.13.2"
  }
 },
 "nbformat": 4,
 "nbformat_minor": 5
}
