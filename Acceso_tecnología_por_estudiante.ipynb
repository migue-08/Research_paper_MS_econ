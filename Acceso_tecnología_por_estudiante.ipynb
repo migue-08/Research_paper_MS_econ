{
 "cells": [
  {
   "cell_type": "code",
   "execution_count": 1,
   "id": "76a07fea-4f8d-4dcb-b59e-2fbea0e08487",
   "metadata": {},
   "outputs": [],
   "source": [
    "import numpy as np\n",
    "import os\n",
    "import matplotlib.pyplot as plt\n",
    "import pandas as pd\n",
    "plt.rc(\"figure\", figsize=(10, 6))\n",
    "np.set_printoptions(precision=4)\n",
    "pd.options.display.max_columns = 20\n",
    "pd.options.display.max_rows = 20\n",
    "pd.options.display.max_colwidth = 80"
   ]
  },
  {
   "cell_type": "markdown",
   "id": "5b5f4a4c-5cf8-43a0-a40c-640f65019158",
   "metadata": {},
   "source": [
    "## General idea"
   ]
  },
  {
   "cell_type": "markdown",
   "id": "6e922d4f-e606-40f3-969d-44189155b846",
   "metadata": {},
   "source": [
    "In this notebook, we are figuring out the institutions with access to computers and internet:"
   ]
  },
  {
   "cell_type": "markdown",
   "id": "a0a84abf-d0ba-4752-9042-e10e2c028ed1",
   "metadata": {},
   "source": [
    "## Load data"
   ]
  },
  {
   "cell_type": "code",
   "execution_count": 2,
   "id": "e5b28c28-983f-4c14-baf4-bdb0b4b2595c",
   "metadata": {},
   "outputs": [],
   "source": [
    "# First we are loading the technology data from census:\n",
    "\n",
    "df1 = pd.read_csv(\"Tenencia, acceso y uso de  bienes  y servicios TIC por sede educativa .csv\",\n",
    "                   delimiter=\";\")          # año 2019\n",
    "\n",
    "df2 = pd.read_csv(\"Tenencia, acceso y uso de los bienes y servicios TIC por sede educativa2.CSV\",\n",
    "                    delimiter=\",\",\n",
    "                    encoding=\"ISO-8859-1\") # año 2022"
   ]
  },
  {
   "cell_type": "markdown",
   "id": "7dd8ff70-7437-47f5-8fa6-537a0210c4ee",
   "metadata": {},
   "source": [
    "## Concat the data"
   ]
  },
  {
   "cell_type": "code",
   "execution_count": 3,
   "id": "eeae52de-c328-44fc-b2fe-15f3350dceec",
   "metadata": {},
   "outputs": [],
   "source": [
    "data = pd.concat([df1, df2], ignore_index=True)"
   ]
  },
  {
   "cell_type": "markdown",
   "id": "f61ba7a4-b883-4bd5-9e11-0e4854bed129",
   "metadata": {},
   "source": [
    "## Reindexing the needed variables"
   ]
  },
  {
   "cell_type": "code",
   "execution_count": 4,
   "id": "0e2e3de0-596b-4999-a185-055aebff8ab5",
   "metadata": {},
   "outputs": [],
   "source": [
    "data = data.reindex(columns=['SEDE_CODIGO', 'PERIODO_ANIO',\n",
    "                             'SEDETE_INTERNET', 'SEDETE_EQUIPO_COMPUTO'])"
   ]
  },
  {
   "cell_type": "code",
   "execution_count": 5,
   "id": "9370aa38-3d09-4caa-a347-a808ff491720",
   "metadata": {},
   "outputs": [],
   "source": [
    "data = data.astype({'SEDETE_INTERNET': 'float64',\n",
    "                    'SEDETE_EQUIPO_COMPUTO': 'float64'})"
   ]
  },
  {
   "cell_type": "code",
   "execution_count": 6,
   "id": "072b5a34-0a74-420b-98f7-6aee4352dfa1",
   "metadata": {},
   "outputs": [
    {
     "data": {
      "text/html": [
       "<div>\n",
       "<style scoped>\n",
       "    .dataframe tbody tr th:only-of-type {\n",
       "        vertical-align: middle;\n",
       "    }\n",
       "\n",
       "    .dataframe tbody tr th {\n",
       "        vertical-align: top;\n",
       "    }\n",
       "\n",
       "    .dataframe thead th {\n",
       "        text-align: right;\n",
       "    }\n",
       "</style>\n",
       "<table border=\"1\" class=\"dataframe\">\n",
       "  <thead>\n",
       "    <tr style=\"text-align: right;\">\n",
       "      <th></th>\n",
       "      <th>SEDE_CODIGO</th>\n",
       "      <th>PERIODO_ANIO</th>\n",
       "      <th>SEDETE_INTERNET</th>\n",
       "      <th>SEDETE_EQUIPO_COMPUTO</th>\n",
       "    </tr>\n",
       "  </thead>\n",
       "  <tbody>\n",
       "    <tr>\n",
       "      <th>0</th>\n",
       "      <td>308758003315</td>\n",
       "      <td>2019</td>\n",
       "      <td>1.0</td>\n",
       "      <td>1.0</td>\n",
       "    </tr>\n",
       "    <tr>\n",
       "      <th>1</th>\n",
       "      <td>308001075769</td>\n",
       "      <td>2019</td>\n",
       "      <td>1.0</td>\n",
       "      <td>1.0</td>\n",
       "    </tr>\n",
       "    <tr>\n",
       "      <th>2</th>\n",
       "      <td>268500000174</td>\n",
       "      <td>2019</td>\n",
       "      <td>0.0</td>\n",
       "      <td>1.0</td>\n",
       "    </tr>\n",
       "    <tr>\n",
       "      <th>3</th>\n",
       "      <td>205145000522</td>\n",
       "      <td>2019</td>\n",
       "      <td>0.0</td>\n",
       "      <td>0.0</td>\n",
       "    </tr>\n",
       "    <tr>\n",
       "      <th>4</th>\n",
       "      <td>325307001507</td>\n",
       "      <td>2019</td>\n",
       "      <td>1.0</td>\n",
       "      <td>1.0</td>\n",
       "    </tr>\n",
       "    <tr>\n",
       "      <th>...</th>\n",
       "      <td>...</td>\n",
       "      <td>...</td>\n",
       "      <td>...</td>\n",
       "      <td>...</td>\n",
       "    </tr>\n",
       "    <tr>\n",
       "      <th>106707</th>\n",
       "      <td>368081002867</td>\n",
       "      <td>2022</td>\n",
       "      <td>1.0</td>\n",
       "      <td>1.0</td>\n",
       "    </tr>\n",
       "    <tr>\n",
       "      <th>106708</th>\n",
       "      <td>350001002903</td>\n",
       "      <td>2022</td>\n",
       "      <td>1.0</td>\n",
       "      <td>1.0</td>\n",
       "    </tr>\n",
       "    <tr>\n",
       "      <th>106709</th>\n",
       "      <td>376248000961</td>\n",
       "      <td>2022</td>\n",
       "      <td>1.0</td>\n",
       "      <td>1.0</td>\n",
       "    </tr>\n",
       "    <tr>\n",
       "      <th>106710</th>\n",
       "      <td>219807001126</td>\n",
       "      <td>2022</td>\n",
       "      <td>1.0</td>\n",
       "      <td>0.0</td>\n",
       "    </tr>\n",
       "    <tr>\n",
       "      <th>106711</th>\n",
       "      <td>219743000741</td>\n",
       "      <td>2022</td>\n",
       "      <td>0.0</td>\n",
       "      <td>1.0</td>\n",
       "    </tr>\n",
       "  </tbody>\n",
       "</table>\n",
       "<p>106712 rows × 4 columns</p>\n",
       "</div>"
      ],
      "text/plain": [
       "         SEDE_CODIGO  PERIODO_ANIO  SEDETE_INTERNET  SEDETE_EQUIPO_COMPUTO\n",
       "0       308758003315          2019              1.0                    1.0\n",
       "1       308001075769          2019              1.0                    1.0\n",
       "2       268500000174          2019              0.0                    1.0\n",
       "3       205145000522          2019              0.0                    0.0\n",
       "4       325307001507          2019              1.0                    1.0\n",
       "...              ...           ...              ...                    ...\n",
       "106707  368081002867          2022              1.0                    1.0\n",
       "106708  350001002903          2022              1.0                    1.0\n",
       "106709  376248000961          2022              1.0                    1.0\n",
       "106710  219807001126          2022              1.0                    0.0\n",
       "106711  219743000741          2022              0.0                    1.0\n",
       "\n",
       "[106712 rows x 4 columns]"
      ]
     },
     "execution_count": 6,
     "metadata": {},
     "output_type": "execute_result"
    }
   ],
   "source": [
    "data"
   ]
  },
  {
   "cell_type": "markdown",
   "id": "47855d0c-ae7f-4ab0-b9e4-e05b31a6fc33",
   "metadata": {},
   "source": [
    "## Exporting this dataframe"
   ]
  },
  {
   "cell_type": "code",
   "execution_count": 7,
   "id": "7885c2f4-d80e-4d4b-91d3-b1135366d8d4",
   "metadata": {},
   "outputs": [],
   "source": [
    "# data.to_csv(\"acceso_tecnologico.csv\")"
   ]
  }
 ],
 "metadata": {
  "kernelspec": {
   "display_name": "Python 3 (ipykernel)",
   "language": "python",
   "name": "python3"
  },
  "language_info": {
   "codemirror_mode": {
    "name": "ipython",
    "version": 3
   },
   "file_extension": ".py",
   "mimetype": "text/x-python",
   "name": "python",
   "nbconvert_exporter": "python",
   "pygments_lexer": "ipython3",
   "version": "3.13.2"
  }
 },
 "nbformat": 4,
 "nbformat_minor": 5
}
